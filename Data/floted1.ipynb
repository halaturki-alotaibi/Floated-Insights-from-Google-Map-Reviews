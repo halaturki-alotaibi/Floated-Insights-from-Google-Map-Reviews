{
  "nbformat": 4,
  "nbformat_minor": 0,
  "metadata": {
    "colab": {
      "provenance": []
    },
    "kernelspec": {
      "name": "python3",
      "display_name": "Python 3"
    },
    "language_info": {
      "name": "python"
    }
  },
  "cells": [
    {
      "cell_type": "code",
      "metadata": {
        "colab": {
          "base_uri": "https://localhost:8080/"
        },
        "id": "edd1a0ac",
        "outputId": "331563be-c382-48ea-a208-85bfadced205"
      },
      "source": [
        "!pip install serpapi"
      ],
      "execution_count": 2,
      "outputs": [
        {
          "output_type": "stream",
          "name": "stdout",
          "text": [
            "Collecting serpapi\n",
            "  Downloading serpapi-0.1.5-py2.py3-none-any.whl.metadata (10 kB)\n",
            "Requirement already satisfied: requests in /usr/local/lib/python3.12/dist-packages (from serpapi) (2.32.4)\n",
            "Requirement already satisfied: charset_normalizer<4,>=2 in /usr/local/lib/python3.12/dist-packages (from requests->serpapi) (3.4.3)\n",
            "Requirement already satisfied: idna<4,>=2.5 in /usr/local/lib/python3.12/dist-packages (from requests->serpapi) (3.10)\n",
            "Requirement already satisfied: urllib3<3,>=1.21.1 in /usr/local/lib/python3.12/dist-packages (from requests->serpapi) (2.5.0)\n",
            "Requirement already satisfied: certifi>=2017.4.17 in /usr/local/lib/python3.12/dist-packages (from requests->serpapi) (2025.8.3)\n",
            "Downloading serpapi-0.1.5-py2.py3-none-any.whl (10 kB)\n",
            "Installing collected packages: serpapi\n",
            "Successfully installed serpapi-0.1.5\n"
          ]
        }
      ]
    },
    {
      "cell_type": "code",
      "execution_count": 12,
      "metadata": {
        "colab": {
          "base_uri": "https://localhost:8080/"
        },
        "id": "gDNExMsxIQwz",
        "outputId": "09c56aec-ff8c-4de5-f5aa-4f2484b4f5e0"
      },
      "outputs": [
        {
          "output_type": "stream",
          "name": "stdout",
          "text": [
            "Author: {'name': 'Maha', 'link': 'https://www.google.com/maps/contrib/106258490806077262294?hl=ar', 'contributor_id': '106258490806077262294', 'thumbnail': 'https://lh3.googleusercontent.com/a-/ALV-UjW8EdGlj0b9zGHToWm39XsBPYO-5p8IltKU4sp0SwTQMsHpu9e-=s120-c-rp-mo-ba5-br100', 'local_guide': True, 'reviews': 131, 'photos': 599}\n",
            "Rating: 4.0\n",
            "Review: المكان صغير بس ملموم ودافئ 🪟✨\n",
            "جربت كم نوع من الوافل،\n",
            "\n",
            "•\tالكريم بروليه عادي 👌\n",
            "•\tالدبل تشوكلت طيّمه 🍫\n",
            "•\tوافل أومبا لومبا لذييييذ مره 🤤 بس شوي دسم 🍯\n",
            "•\tوالآيس كريم 🤤لذيذ لذيذ لذيييييذ 🍨💚\n",
            "\n",
            "طلبت لومي مساوي، طعمه غريب شوي بس منعش ولذيذ 🍋🧊\n",
            "\n",
            "وقهوة اليوم كانت حلوة ☕\n",
            "وآيس ماتشا كان حليوه 🍵💚\n",
            "\n",
            "تجربة لطيفة بتكرّر إن شاء الله 🎀\n",
            "--------------------------------------------------\n",
            "Author: {'name': 'نـوف الـهـلـيّـل', 'link': 'https://www.google.com/maps/contrib/101218579649725192638?hl=ar', 'contributor_id': '101218579649725192638', 'thumbnail': 'https://lh3.googleusercontent.com/a-/ALV-UjWUkMyNcHVSR8e9__m52QL_remJNOWaN_kbvYmsJreIHvw-rNXz=s120-c-rp-mo-ba5-br100', 'local_guide': True, 'reviews': 217, 'photos': 238}\n",
            "Rating: 2.0\n",
            "Review: سمعت عليه مدح موب طبيعي وجيت اجربه ، حليو لكن ما اكرر الزيارة ..\n",
            "المكان ضيّق بشكل موب طبيعي حرفياً الطاولات في ممر ونص الطاولات بدون كراسي لان الطاولات الثانية ماخذينها ، يعني تتقهوى وفي وجهك ناس يطلبون والكاشير قدامك\n",
            "الوافل حليو التشوكلت اللي جوا تجي اعواد مو زي النوتيلا ، وجودة التشوكلت نفسه موب مرة حلو يعني عادي ..\n",
            "القهوة عادية بشكل عام تقييمي 5/10 ..\n",
            "--------------------------------------------------\n",
            "Author: {'name': 'W', 'link': 'https://www.google.com/maps/contrib/114047565023059669075?hl=ar', 'contributor_id': '114047565023059669075', 'thumbnail': 'https://lh3.googleusercontent.com/a/ACg8ocLeGPGSbaRDic90SJyDPIpBRTdAz3kyNjN4pcvw0fz1SANabg=s120-c-rp-mo-ba4-br100', 'local_guide': True, 'reviews': 67, 'photos': 86}\n",
            "Rating: 2.0\n",
            "Review: حطيته في أول القائمة إذا زرت الرياض\n",
            "طلبت 3 أصناف والطعم عااااادي جداً!😢\n",
            "\n",
            "وافل دبل تشوكلت + وافل الكليجة مره طعمهم عادي\n",
            "+ آيس كريم فانيلا اللي توقعته بيكون لذيييذ ومختلف لأنه يستخدم فانيلا طبيعية وطلع حاالي ونفس طعم آيس كريم ماك بالضبط! + القهوة V60 كانت حلوة\n",
            "\n",
            "المكان صغير وملموم وجلساته محدودة\n",
            "--------------------------------------------------\n",
            "Author: {'name': 'No0ony.10', 'link': 'https://www.google.com/maps/contrib/109710213520102758020?hl=ar', 'contributor_id': '109710213520102758020', 'thumbnail': 'https://lh3.googleusercontent.com/a/ACg8ocJStX4l0RfQ1hWoalvPk_VnTVWiL_HnQ6HOEUBIrZ2PBrHPbw=s120-c-rp-mo-ba3-br100', 'local_guide': True, 'reviews': 76, 'photos': 20}\n",
            "Rating: 1.0\n",
            "Review: المكان صغير وكتمه ،الكراسي وصخه،جوه مو رايق لجلسه، الاسعار مرتفعه الطعم عادي جدا جربت نوعين وافل ..واحد منهم الصدق حرقان وشين الي هو كلاسيك وزياده كم ريال عشان يحط لك فيه شوكلت وطعم الشوكلت وجودته رديئه جدا وقهوه اليوم مو كويسه تحتاج تعديل والموظفين اطفال مافيهم اي احترافيه واحد يعلمني وين اوقف؟ باسلوب مستفز والثاني ياخذ الطلبات ويشرح لك من راس خشمه لا ابتسامه لاتعامل كانه بمطعم شاورما\n",
            "النظافه ايضا مش ولا بد ناشرين الوافل كله قدام الرايح والجاي ،تجربه ماتتكرر\n",
            "--------------------------------------------------\n",
            "Author: {'name': 'Dana', 'link': 'https://www.google.com/maps/contrib/113350552410656097208?hl=ar', 'contributor_id': '113350552410656097208', 'thumbnail': 'https://lh3.googleusercontent.com/a-/ALV-UjWyznjnQ9gBZwvcdvegBR-tO7blpxe9ain1dRmNPDrU1rymoses=s120-c-rp-mo-ba3-br100', 'local_guide': True, 'reviews': 7, 'photos': 12}\n",
            "Rating: 4.0\n",
            "Review: المكان صغير وملموم\n",
            "\n",
            "طلبنا قهوة اليوم و وافل ايسكريم كليجا، وافل شوكلت وكريم بروليه\n",
            "\n",
            "الأفضل كان وافل ايسكريم فانيلا كليجا وبعيد تجربته خصوصا اللي شدني حبيبات الفانيلا بالايسكريم رغم نكهات الكليجا طغت على طعم الفانيلا\n",
            "\n",
            "الأكل ككل والخدمة اقيمها 🎖️🎖️🎖️🎖️\n",
            "\n",
            "المكان يستحق الزيارة وتجربة الوافل\n",
            "--------------------------------------------------\n",
            "Author: {'name': 'Moon Ahmad', 'link': 'https://www.google.com/maps/contrib/110102100282434792213?hl=ar', 'contributor_id': '110102100282434792213', 'thumbnail': 'https://lh3.googleusercontent.com/a-/ALV-UjUKfEl2c9_RvX-FrH1u57D8stUp4TynWNi2A6QiU5w_UyD-PkSX=s120-c-rp-mo-ba6-br100', 'local_guide': True, 'reviews': 261, 'photos': 1506}\n",
            "Rating: 4.0\n",
            "Review: صراحه تجربتي له كانت جيده..\n",
            "\n",
            "المكان صغير وكان جدا مزدحم،،الموطف جداا كان لطيف  وخدوم وذو خلق عالي..\n",
            "\n",
            "المكان نظيف والخدمه سريعه ..والطعم ممتاز ..\n",
            "طلبت وافل نوعين\n",
            "بورليه\n",
            "ونوع مملح\n",
            "وقهوه صراحه حلو بس اسعاره مرتفعه نوعا ما ..\n",
            "--------------------------------------------------\n",
            "Author: {'name': 'rcr_ Food', 'link': 'https://www.google.com/maps/contrib/103860573070225306003?hl=ar', 'contributor_id': '103860573070225306003', 'thumbnail': 'https://lh3.googleusercontent.com/a-/ALV-UjWbegY4DoWVv20eGggG_dtRUTHBNNKSVKJlY2AWD5HmKmsQ3qEL=s120-c-rp-mo-ba6-br100', 'local_guide': True, 'reviews': 439, 'photos': 2185}\n",
            "Rating: 4.0\n",
            "Review: مساء الخير\n",
            "تجربتنا كانت لكوفي فلوتد على شارع القلعة ( حي الياسمين )\n",
            "قهوة اليوم اثيوبي جيدة\n",
            "فلات وايت كوستاريكا جيد\n",
            "وافل كريم برواليه حلوة\n",
            "جلسات داخلية\n",
            "بدون موسيقى وبدون بارتشن\n",
            "--------------------------------------------------\n",
            "Author: {'name': 'abdulaziz Albahusayn', 'link': 'https://www.google.com/maps/contrib/109104727906766512041?hl=ar', 'contributor_id': '109104727906766512041', 'thumbnail': 'https://lh3.googleusercontent.com/a-/ALV-UjXES7Oj0CQTkeNhicty3DS9XTXYrOYMNGML7wUbPja26Z4ED5Q_=s120-c-rp-mo-ba6-br100', 'local_guide': True, 'reviews': 762, 'photos': 3386}\n",
            "Rating: 5.0\n",
            "Review: المكان زرته اكثر من مره ، عجية الوافل رائعه رائعه جداً 😍\n",
            "\n",
            "هالمره كانت الديار لتجربة المنتج الجديد:\n",
            "\n",
            "ميني وافل “لقيمات” محشي جبن مع صوص دبس التمر كانت خيالية! أنصح بتجربته لكل عشاق الحلويات والمذاقات الجديدة.\n",
            "\n",
            "اكيد لي رجعه له خلال الايام الجايه 😋😋\n",
            "\n",
            "الموظفين كلهم تعاملهم راقي.\n",
            "\n",
            "انصح اللي راح يقرأ التعليق بتجربة الوافل بشكل عام ويختار النوع اللي يعجبه 👌🏻\n",
            "\n",
            "يعطيكم العافية فلوتد واحنا داعمين لكم وعقبال الألف فرع ومن نجاح إلى نجاح يارب 🤍🫶🏻\n",
            "--------------------------------------------------\n"
          ]
        }
      ],
      "source": [
        "from serpapi import Client\n",
        "\n",
        "# ضيفي مفتاح SerpApi\n",
        "params = {\n",
        "  \"engine\": \"google_maps_reviews\",\n",
        "  \"data_id\": \"0x3e2ee32535fc03eb:0x13d4451f8ce4d32d\",  # ID للفرع (من رابط Google Maps)\n",
        "  \"hl\": \"ar\",       # اللغة (ar = عربي)\n",
        "  \"api_key\": \"d22ea73df59d158c52a1a6cee6dc00cace32f6151f3a9889cef420a56385c673\"\n",
        "}\n",
        "\n",
        "search = Client()\n",
        "results = search.search(params)\n",
        "\n",
        "\n",
        "# استعراض التعليقات\n",
        "if \"reviews\" in results:\n",
        "    for review in results[\"reviews\"]:\n",
        "        print(\"Author:\", review.get(\"user\"))\n",
        "        print(\"Rating:\", review.get(\"rating\"))\n",
        "        print(\"Review:\", review.get(\"snippet\"))\n",
        "        print(\"-\" * 50)\n",
        "else:\n",
        "    print(\"ما فيه تعليقات أو الـ data_id غير صحيح.\")"
      ]
    },
    {
      "cell_type": "code",
      "metadata": {
        "colab": {
          "base_uri": "https://localhost:8080/"
        },
        "id": "281b605f",
        "outputId": "01d1651b-318c-49d1-9577-c18537578a9f"
      },
      "source": [
        "import serpapi\n",
        "print(dir(serpapi))"
      ],
      "execution_count": 7,
      "outputs": [
        {
          "output_type": "stream",
          "name": "stdout",
          "text": [
            "['APIKeyNotProvided', 'Client', 'HTTPClient', 'HTTPConnectionError', 'HTTPError', 'SearchIDNotProvided', 'SerpApiError', 'SerpResults', '__builtins__', '__cached__', '__doc__', '__file__', '__loader__', '__name__', '__package__', '__path__', '__spec__', '__version__', 'account', 'core', 'exceptions', 'http', 'locations', 'models', 'requests', 'search', 'search_archive', 'textui']\n"
          ]
        }
      ]
    },
    {
      "cell_type": "code",
      "metadata": {
        "colab": {
          "base_uri": "https://localhost:8080/"
        },
        "id": "a5c9f401",
        "outputId": "60ac23f1-75e5-4592-f3b3-9d47a235e724"
      },
      "source": [
        "from serpapi import Client\n",
        "search = Client()\n",
        "print(dir(search))"
      ],
      "execution_count": 11,
      "outputs": [
        {
          "output_type": "stream",
          "name": "stdout",
          "text": [
            "['BASE_DOMAIN', 'DASHBOARD_URL', 'USER_AGENT', '__class__', '__delattr__', '__dict__', '__dir__', '__doc__', '__eq__', '__format__', '__ge__', '__getattribute__', '__getstate__', '__gt__', '__hash__', '__init__', '__init_subclass__', '__le__', '__lt__', '__module__', '__ne__', '__new__', '__reduce__', '__reduce_ex__', '__repr__', '__setattr__', '__sizeof__', '__str__', '__subclasshook__', '__weakref__', 'account', 'api_key', 'locations', 'request', 'search', 'search_archive', 'session']\n"
          ]
        }
      ]
    },
    {
      "cell_type": "code",
      "source": [
        "import requests\n",
        "import csv\n",
        "import time\n",
        "\n",
        "# إعدادات API\n",
        "API_KEY = \"d22ea73df59d158c52a1a6cee6dc00cace32f6151f3a9889cef420a56385c673\"\n",
        "DATA_ID = \"0x3e2ee32535fc03eb:0x13d4451f8ce4d32d\"  # ID الفرع\n",
        "LANG = \"ar\"  # اللغة\n",
        "\n",
        "# ملف CSV للحفظ\n",
        "CSV_FILE = \"floated_reviews_full.csv\"\n",
        "\n",
        "# رؤوس الأعمدة\n",
        "headers = [\n",
        "    \"Author Name\", \"Author Link\", \"Contributor ID\", \"Local Guide\",\n",
        "    \"Reviews Count\", \"Photos Count\", \"Rating\", \"Review Text\", \"Review Date\"\n",
        "]\n",
        "\n",
        "# فتح ملف CSV\n",
        "with open(CSV_FILE, \"w\", newline=\"\", encoding=\"utf-8\") as f:\n",
        "    writer = csv.writer(f)\n",
        "    writer.writerow(headers)\n",
        "\n",
        "    next_page_token = None\n",
        "    while True:\n",
        "        params = {\n",
        "            \"engine\": \"google_maps_reviews\",\n",
        "            \"data_id\": DATA_ID,\n",
        "            \"hl\": LANG,\n",
        "            \"sort_by\": \"newestFirst\",\n",
        "            \"api_key\": API_KEY\n",
        "        }\n",
        "        if next_page_token:\n",
        "            params[\"next_page_token\"] = next_page_token\n",
        "\n",
        "        response = requests.get(\"https://serpapi.com/search\", params=params)\n",
        "        data = response.json()\n",
        "\n",
        "        reviews = data.get(\"reviews\", [])\n",
        "        for rev in reviews:\n",
        "            author = rev.get(\"author\", {})\n",
        "            writer.writerow([\n",
        "                author.get(\"name\", \"\"),\n",
        "                author.get(\"link\", \"\"),\n",
        "                author.get(\"contributor_id\", \"\"),\n",
        "                author.get(\"local_guide\", False),\n",
        "                author.get(\"reviews\", 0),\n",
        "                author.get(\"photos\", 0),\n",
        "                rev.get(\"rating\", \"\"),\n",
        "                rev.get(\"snippet\", \"\"),\n",
        "                rev.get(\"date\", \"\")\n",
        "            ])\n",
        "\n",
        "        # التحقق من وجود الصفحة التالية\n",
        "        next_page_token = data.get(\"serpapi_pagination\", {}).get(\"next_page_token\")\n",
        "        if not next_page_token:\n",
        "            break\n",
        "\n",
        "        # منع الحظر: ننتظر شوي قبل الصفحة التالية\n",
        "        time.sleep(2)\n",
        "\n",
        "print(f\"✅ تم حفظ كل التعليقات في {CSV_FILE} بنجاح\")\n"
      ],
      "metadata": {
        "colab": {
          "base_uri": "https://localhost:8080/"
        },
        "id": "5AyBu6SKKPFT",
        "outputId": "0c49b16e-eeca-46ed-9f7c-a64dbdfc50f8"
      },
      "execution_count": 14,
      "outputs": [
        {
          "output_type": "stream",
          "name": "stdout",
          "text": [
            "✅ تم حفظ كل التعليقات في floated_reviews_full.csv بنجاح\n"
          ]
        }
      ]
    },
    {
      "cell_type": "code",
      "source": [
        "import requests\n",
        "import csv\n",
        "import time\n",
        "\n",
        "# إعدادات API\n",
        "API_KEY = \"d22ea73df59d158c52a1a6cee6dc00cace32f6151f3a9889cef420a56385c673\"\n",
        "DATA_IDS = [\n",
        "    \"0x3e2ee32535fc03eb:0x13d4451f8ce4d32d\",  # فرع 1\n",
        "    \"0x3e2f030076807289:0xc8166ea314251bb7\",  # فرع 2\n",
        "   \"0x3e2f1b0066aca9cf:0xb109c3a38a57e7b7\", # فرع3\n",
        "    \"0x3e2f03006438db63:0x6b08668a5d61b076\" # فرع4\n",
        "]\n",
        "LANG = \"ar\"\n",
        "\n",
        "CSV_FILE = \"floated_reviews_all_branches.csv\"\n",
        "\n",
        "# رؤوس الأعمدة\n",
        "headers = [\n",
        "    \"Branch ID\", \"Author Name\", \"Author Link\", \"Contributor ID\", \"Local Guide\",\n",
        "    \"Reviews Count\", \"Photos Count\", \"Rating\", \"Review Text\", \"Review Date\"\n",
        "]\n",
        "\n",
        "with open(CSV_FILE, \"w\", newline=\"\", encoding=\"utf-8\") as f:\n",
        "    writer = csv.writer(f)\n",
        "    writer.writerow(headers)\n",
        "\n",
        "    for branch_id in DATA_IDS:\n",
        "        next_page_token = None\n",
        "        while True:\n",
        "            params = {\n",
        "                \"engine\": \"google_maps_reviews\",\n",
        "                \"data_id\": branch_id,\n",
        "                \"hl\": LANG,\n",
        "                \"sort_by\": \"newestFirst\",\n",
        "                \"api_key\": API_KEY\n",
        "            }\n",
        "            if next_page_token:\n",
        "                params[\"next_page_token\"] = next_page_token\n",
        "\n",
        "            response = requests.get(\"https://serpapi.com/search\", params=params)\n",
        "            data = response.json()\n",
        "\n",
        "            reviews = data.get(\"reviews\", [])\n",
        "            for rev in reviews:\n",
        "                author = rev.get(\"author\", {})\n",
        "                writer.writerow([\n",
        "                    branch_id,\n",
        "                    author.get(\"name\", \"\"),\n",
        "                    author.get(\"link\", \"\"),\n",
        "                    author.get(\"contributor_id\", \"\"),\n",
        "                    author.get(\"local_guide\", False),\n",
        "                    author.get(\"reviews\", 0),\n",
        "                    author.get(\"photos\", 0),\n",
        "                    rev.get(\"rating\", \"\"),\n",
        "                    rev.get(\"snippet\", \"\"),\n",
        "                    rev.get(\"date\", \"\")\n",
        "                ])\n",
        "\n",
        "            next_page_token = data.get(\"serpapi_pagination\", {}).get(\"next_page_token\")\n",
        "            if not next_page_token:\n",
        "                break\n",
        "\n",
        "            time.sleep(2)  # منع الحظر\n",
        "\n",
        "print(f\"✅ تم حفظ كل التعليقات لكل الفروع في {CSV_FILE}\")\n"
      ],
      "metadata": {
        "colab": {
          "base_uri": "https://localhost:8080/"
        },
        "id": "RzYRMal_Q-zS",
        "outputId": "ed5dd472-b3cb-4493-a9e5-6080d18d314b"
      },
      "execution_count": 16,
      "outputs": [
        {
          "output_type": "stream",
          "name": "stdout",
          "text": [
            "✅ تم حفظ كل التعليقات لكل الفروع في floated_reviews_all_branches.csv\n"
          ]
        }
      ]
    }
  ]
}